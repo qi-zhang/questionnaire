{
 "metadata": {
  "name": "Questionnaire"
 },
 "nbformat": 3,
 "nbformat_minor": 0,
 "worksheets": [
  {
   "cells": [
    {
     "cell_type": "code",
     "collapsed": false,
     "input": "import os.path\nimport ConfigParser\nimport gspread\nhome = os.path.expanduser(\"~\")\nconfigfile = os.path.join(home, 'stat157.cfg')\nconfig = ConfigParser.SafeConfigParser()\nconfig.read(configfile)\nusername = config.get('google', 'username')\npassword = config.get('google', 'password')\nprint username\ndocid = config.get('questionnaire', 'docid')\nclient = gspread.login(username, password)\nspreadsheet = client.open_by_key(docid)\nworksheet = spreadsheet.get_worksheet(0)\nprint docid\nfieldnames = ['What is your learning style?','In which of these topics would you feel confident being a technical lead for other students?']\nprint fieldnames\nfiltered_data = []\nfor row in worksheet.get_all_records():\n   filtered_data.append({k:v for k,v in row.iteritems() if k in fieldnames})\nprint \"Number of rows: {}\".format(len(filtered_data))\nfor row in (filtered_data):\n   print row\nquestionnaire = filtered_data\nfrom pandas import DataFrame, read_csv\nfrom xml.etree import ElementTree\nimport pandas as pd\nquestdf = DataFrame(questionnaire)\n\nquestdf['Visual'] = questdf['What is your learning style?']\nquestdf['Aural'] = questdf['What is your learning style?']\nquestdf['Read/Write'] = questdf['What is your learning style?']\nquestdf['Kinesthetic'] = questdf['What is your learning style?']\nquestdf[\"TechLead\"] = questdf[\"In which of these topics would you feel confident being a technical lead for other students?\"]\nStyle=questdf['What is your learning style?']\nimport re\n\ndef extract(Name,Record,ExtraPattern):\n    pattern=Name+'.*[0-9]+'\n    if len(ExtraPattern) > 0:\n        pattern=pattern+'|'+ExtraPattern+'.*[0-9]+'    # Record no.32 needs special handling\n    result=re.findall(pattern,Record)      # Use Regular expression to search\n    if len(result) >0:\n        result=int(re.findall('[0-9]+',result[0])[0])\n    else:\n        result= \"NA\"\n    return result\n\nVisual = questdf['Visual']\nAural = questdf['Aural']\nReadWrite = questdf['Read/Write']\nKinesthetic = questdf['Kinesthetic']\n\nfor i in range(len(Style)):\n    Visual[i]= extract(\"Visual\",Style[i],\"\")\n    Aural[i]= extract(\"Aural\",Style[i],\"\")\n    ReadWrite[i]= extract(\"Read/Write\",Style[i],\"Reading/Writing\")    # Record no.32 needs special handling\n    Kinesthetic[i]= extract(\"Kinesthetic\",Style[i],\"\")\n\ndel questdf[\"What is your learning style?\"]\ndel questdf[\"In which of these topics would you feel confident being a technical lead for other students?\"]\n#print questdf\n\nSkillList=[\"github\",\"Python\",\"XML\",\"HTML5\",\"LaTeX\",\"jQuery\",\"Statistics\",\"Probability\",\"R\",\"JavaScript\",\"Blogging\",\"Academic Publishing\"]\nTechLead=questdf[\"TechLead\"]\nfor skill in SkillList:\n    questdf[skill]=questdf[\"TechLead\"]\n    x=questdf[skill]\n    for i in range (len(TechLead)):\n        x[i]=skill in TechLead[i]\n\nprint \"new table\"\n#del questdf[\"TechLead\"]\nprint  questdf",
     "language": "python",
     "metadata": {},
     "outputs": []
    }
   ],
   "metadata": {}
  }
 ]
}
